{
 "cells": [
  {
   "cell_type": "code",
   "execution_count": 1,
   "metadata": {},
   "outputs": [],
   "source": [
    "from langchain.document_loaders import PyPDFLoader\n",
    "from langchain.llms import VertexAI"
   ]
  },
  {
   "cell_type": "code",
   "execution_count": 3,
   "metadata": {},
   "outputs": [],
   "source": [
    "loader = PyPDFLoader(\"./docs/How Christopher Nolan Learned to Stop Worrying and Love AI | WIRED.pdf\")\n",
    "documents = loader.load()\n",
    "llm = VertexAI(project=\"gci-generative-ai-b\", location=\"us-central1\")"
   ]
  },
  {
   "cell_type": "code",
   "execution_count": 4,
   "metadata": {},
   "outputs": [
    {
     "data": {
      "text/plain": "\"The article is about Christopher Nolan and his wife Emma Thomas. They are both involved in the movie Oppenheimer. The article also mentions that Nolan's son Magnus took the photographs for the interview. The article also mentions that Cillian Murphy plays the title character in the movie. The article also mentions that Nolan was talking to Steven Spielberg about the threat of nuclear warfare.\""
     },
     "execution_count": 4,
     "metadata": {},
     "output_type": "execute_result"
    }
   ],
   "source": [
    "from langchain.chains.question_answering import load_qa_chain\n",
    "chain = load_qa_chain(llm,chain_type=\"refine\")\n",
    "query=\"Who is involved?\"\n",
    "chain.run(input_documents=documents, question=query)"
   ]
  },
  {
   "cell_type": "code",
   "execution_count": 5,
   "metadata": {},
   "outputs": [
    {
     "data": {
      "text/plain": "\"The main topic the author wants to address is the relationship between AI and the movie Oppenheimer. The author argues that AI is not the bomb, but that it could still scare people. The author also discusses the role of science in the movie and how it relates to AI. The author also discusses the relationship between science and government, and how Oppenheimer's story is an example of how this relationship can be complicated. The author also discusses the role of candor in the movie and how it relates to AI. The author argues that candor is the only way to ensure world peace and that it is essential for the development of AI.\""
     },
     "execution_count": 5,
     "metadata": {},
     "output_type": "execute_result"
    }
   ],
   "source": [
    "query=\"What is the main topic the want to address?\"\n",
    "chain.run(input_documents=documents, question=query)"
   ]
  },
  {
   "cell_type": "code",
   "execution_count": 6,
   "metadata": {},
   "outputs": [
    {
     "data": {
      "text/plain": "'The sentiment is positive about AI.'"
     },
     "execution_count": 6,
     "metadata": {},
     "output_type": "execute_result"
    }
   ],
   "source": [
    "query=\"Is the sentiment positive about AI?\"\n",
    "chain.run(input_documents=documents, question=query)"
   ]
  },
  {
   "cell_type": "code",
   "execution_count": 7,
   "metadata": {},
   "outputs": [
    {
     "data": {
      "text/plain": "'The sentiment is positive about AI because it is said that AI can be a very powerful tool for us. This means that AI can be used for good. The context provides more information about the relationship between AI and the bomb. It is said that AI is not the same as the bomb, but it is the best analogy for the dangers of unthinkingly unleashing a new technology on the world. This is because AI is a new technology that has the potential to change and endanger the world. However, the origins of these technologies are different. The scientists who developed the atomic bomb believed that they were just revealing something that was already there. They'"
     },
     "execution_count": 7,
     "metadata": {},
     "output_type": "execute_result"
    }
   ],
   "source": [
    "query=\"In what way is the sentiment positive about AI?\"\n",
    "chain.run(input_documents=documents, question=query)"
   ]
  },
  {
   "cell_type": "code",
   "execution_count": null,
   "metadata": {},
   "outputs": [],
   "source": []
  },
  {
   "cell_type": "code",
   "execution_count": null,
   "metadata": {},
   "outputs": [],
   "source": []
  }
 ],
 "metadata": {
  "kernelspec": {
   "display_name": "Python 3",
   "language": "python",
   "name": "python3"
  },
  "language_info": {
   "codemirror_mode": {
    "name": "ipython",
    "version": 3
   },
   "file_extension": ".py",
   "mimetype": "text/x-python",
   "name": "python",
   "nbconvert_exporter": "python",
   "pygments_lexer": "ipython3",
   "version": "3.9.0"
  },
  "orig_nbformat": 4
 },
 "nbformat": 4,
 "nbformat_minor": 2
}
