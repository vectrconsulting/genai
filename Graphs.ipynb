{
 "cells": [
  {
   "cell_type": "code",
   "execution_count": 1,
   "metadata": {
    "id": "x5oiK71aDhwm"
   },
   "outputs": [],
   "source": [
    "from langchain.chains import GraphCypherQAChain\n",
    "from langchain.graphs import Neo4jGraph\n",
    "\n",
    "\n",
    "graph = Neo4jGraph(\n",
    "    url=\"bolt://44.204.234.176\",\n",
    "    username=\"neo4j\", \n",
    "    password=\"screens-tackle-lighter\"\n",
    ")"
   ]
  },
  {
   "cell_type": "code",
   "execution_count": 2,
   "metadata": {
    "id": "Wliyn4YWDrj0"
   },
   "outputs": [],
   "source": [
    "from langchain.llms import VertexAI\n",
    "\n",
    "\n",
    "llm = VertexAI(project=\"gci-generative-ai-b\", location=\"us-central1\",top_p=0.95,top_k=40,max_output_tokens=128,temperature=0.0)\n",
    "\n",
    "chain = GraphCypherQAChain.from_llm(\n",
    "    llm, graph=graph, verbose=True,\n",
    ")"
   ]
  },
  {
   "cell_type": "code",
   "execution_count": 3,
   "metadata": {
    "colab": {
     "base_uri": "https://localhost:8080/",
     "height": 258
    },
    "id": "oaKOhoyKDvzj",
    "outputId": "2953b317-196e-455a-a836-ce4965f2b34d"
   },
   "outputs": [
    {
     "name": "stdout",
     "output_type": "stream",
     "text": [
      "\n",
      "\n",
      "\u001B[1m> Entering new  chain...\u001B[0m\n",
      "Generated Cypher:\n",
      "\u001B[32;1m\u001B[1;3mMATCH (s:Stream)-[:PLAYS]->(g:Game {name: \"Fortnite\"}) WITH s ORDER BY s.followers DESC LIMIT 1 RETURN s.name\u001B[0m\n",
      "Full Context:\n",
      "\u001B[32;1m\u001B[1;3m[{'s.name': 'thegrefg'}]\u001B[0m\n",
      "\n",
      "\u001B[1m> Finished chain.\u001B[0m\n"
     ]
    },
    {
     "data": {
      "text/plain": "'The most followed Fortnite streamer is TheGrefg.'"
     },
     "execution_count": 3,
     "metadata": {},
     "output_type": "execute_result"
    }
   ],
   "source": [
    "chain.run(\"\"\"\n",
    "Which fortnite streamer has the most followers?\n",
    "\"\"\")"
   ]
  },
  {
   "cell_type": "code",
   "execution_count": 4,
   "metadata": {
    "colab": {
     "base_uri": "https://localhost:8080/",
     "height": 296
    },
    "id": "4Cdzdk29E77u",
    "outputId": "0eef44d4-1d19-4b22-f901-08f68881fb1c"
   },
   "outputs": [
    {
     "name": "stdout",
     "output_type": "stream",
     "text": [
      "\n",
      "\n",
      "\u001B[1m> Entering new  chain...\u001B[0m\n",
      "Generated Cypher:\n",
      "\u001B[32;1m\u001B[1;3mMATCH (s:Stream)-[:HAS_LANGUAGE]->(l:Language {name: \"Italian\"})-[:HAS_STREAM]->(u:User) RETURN u.name, s.followers ORDER BY s.followers DESC LIMIT 1\u001B[0m\n",
      "Full Context:\n",
      "\u001B[32;1m\u001B[1;3m[]\u001B[0m\n",
      "\n",
      "\u001B[1m> Finished chain.\u001B[0m\n"
     ]
    },
    {
     "data": {
      "text/plain": "\"I don't know the answer.\""
     },
     "execution_count": 4,
     "metadata": {},
     "output_type": "execute_result"
    }
   ],
   "source": [
    "chain.run(\"\"\"\n",
    "Which italian streamer has the most followers?\n",
    "\"\"\")"
   ]
  },
  {
   "cell_type": "code",
   "execution_count": 5,
   "metadata": {
    "id": "Wu8DkdjXF0Vf"
   },
   "outputs": [],
   "source": [
    "# https://github.com/hwchase17/langchain/blob/master/langchain/chains/graph_qa/prompts.py\n",
    "from langchain.prompts.prompt import PromptTemplate\n",
    "\n",
    "\n",
    "CYPHER_GENERATION_TEMPLATE = \"\"\"Task:Generate Cypher statement to query a graph database.\n",
    "Instructions:\n",
    "Use only the provided relationship types and properties in the schema.\n",
    "Do not use any other relationship types or properties that are not provided.\n",
    "Schema:\n",
    "{schema}\n",
    "Cypher examples:\n",
    "# How many streamers are from Norway?\n",
    "MATCH (s:Stream)-[:HAS_LANGUAGE]->(:Language {{name: 'no'}})\n",
    "RETURN count(s) AS streamers\n",
    "\n",
    "Note: Do not include any explanations or apologies in your responses.\n",
    "Do not respond to any questions that might ask anything else than for you to construct a Cypher statement.\n",
    "Do not include any text except the generated Cypher statement.\n",
    "\n",
    "The question is:\n",
    "{question}\"\"\"\n",
    "CYPHER_GENERATION_PROMPT = PromptTemplate(\n",
    "    input_variables=[\"schema\", \"question\"], template=CYPHER_GENERATION_TEMPLATE\n",
    ")"
   ]
  },
  {
   "cell_type": "code",
   "execution_count": 6,
   "metadata": {
    "colab": {
     "base_uri": "https://localhost:8080/",
     "height": 276
    },
    "id": "uHqJDR43HFOf",
    "outputId": "1801e211-2250-4b57-b145-50aaba77edcb"
   },
   "outputs": [
    {
     "name": "stdout",
     "output_type": "stream",
     "text": [
      "\n",
      "\n",
      "\u001B[1m> Entering new  chain...\u001B[0m\n",
      "Generated Cypher:\n",
      "\u001B[32;1m\u001B[1;3mMATCH (s:Stream)-[:HAS_LANGUAGE]->(:Language {name: 'it'})\n",
      "RETURN s.name, s.followers ORDER BY s.followers DESC LIMIT 1\u001B[0m\n",
      "Full Context:\n",
      "\u001B[32;1m\u001B[1;3m[{'s.name': 'pow3rtv', 's.followers': 1530428}]\u001B[0m\n",
      "\n",
      "\u001B[1m> Finished chain.\u001B[0m\n"
     ]
    },
    {
     "data": {
      "text/plain": "'The Italian streamer with the most followers is pow3rtv.'"
     },
     "execution_count": 6,
     "metadata": {},
     "output_type": "execute_result"
    }
   ],
   "source": [
    "chain_language_example = GraphCypherQAChain.from_llm(\n",
    "    llm, graph=graph, verbose=True,\n",
    "    cypher_prompt=CYPHER_GENERATION_PROMPT\n",
    ")\n",
    "\n",
    "chain_language_example.run(\"\"\"\n",
    "Which italian streamer has the most followers?\n",
    "\"\"\")\n"
   ]
  },
  {
   "cell_type": "code",
   "execution_count": 7,
   "metadata": {
    "colab": {
     "base_uri": "https://localhost:8080/",
     "height": 239
    },
    "id": "-fsAoE_MHvDq",
    "outputId": "271397f0-c027-4e2c-a310-9ef39b1da9d1"
   },
   "outputs": [
    {
     "name": "stdout",
     "output_type": "stream",
     "text": [
      "\n",
      "\n",
      "\u001B[1m> Entering new  chain...\u001B[0m\n",
      "Generated Cypher:\n",
      "\u001B[32;1m\u001B[1;3mMATCH (s:Stream {name: 'pokimane'})-[:CHATTER]->(u:User)\n",
      "MATCH (u)-[:CHATTER]->(s2:Stream)\n",
      "RETURN s2.name AS recommended_streamers\u001B[0m\n",
      "Full Context:\n",
      "\u001B[32;1m\u001B[1;3m[]\u001B[0m\n",
      "\n",
      "\u001B[1m> Finished chain.\u001B[0m\n"
     ]
    },
    {
     "data": {
      "text/plain": "\"I don't know the answer.\""
     },
     "execution_count": 7,
     "metadata": {},
     "output_type": "execute_result"
    }
   ],
   "source": [
    "chain_language_example.run(\"\"\"\n",
    "Which streamers should I also watch if I like pokimane?\n",
    "\"\"\")"
   ]
  },
  {
   "cell_type": "code",
   "execution_count": 8,
   "metadata": {
    "colab": {
     "base_uri": "https://localhost:8080/"
    },
    "id": "6NimpqImIXzU",
    "outputId": "073caee8-2102-41cb-d5c9-caa4e6d4add1"
   },
   "outputs": [
    {
     "ename": "ClientError",
     "evalue": "{code: Neo.ClientError.Procedure.ProcedureCallFailed} {message: Failed to invoke procedure `gds.graph.project`: Caused by: java.lang.IllegalArgumentException: A graph with name 'shared-audience' already exists.}",
     "output_type": "error",
     "traceback": [
      "\u001B[0;31m---------------------------------------------------------------------------\u001B[0m",
      "\u001B[0;31mClientError\u001B[0m                               Traceback (most recent call last)",
      "Cell \u001B[0;32mIn[8], line 2\u001B[0m\n\u001B[1;32m      1\u001B[0m \u001B[38;5;66;03m# Project in-memory graph\u001B[39;00m\n\u001B[0;32m----> 2\u001B[0m \u001B[43mgraph\u001B[49m\u001B[38;5;241;43m.\u001B[39;49m\u001B[43mquery\u001B[49m\u001B[43m(\u001B[49m\u001B[38;5;124;43m\"\"\"\u001B[39;49m\n\u001B[1;32m      3\u001B[0m \u001B[38;5;124;43mCALL gds.graph.project(\u001B[39;49m\u001B[38;5;124;43m'\u001B[39;49m\u001B[38;5;124;43mshared-audience\u001B[39;49m\u001B[38;5;124;43m'\u001B[39;49m\u001B[38;5;124;43m,\u001B[39;49m\n\u001B[1;32m      4\u001B[0m \u001B[38;5;124;43m  [\u001B[39;49m\u001B[38;5;124;43m'\u001B[39;49m\u001B[38;5;124;43mUser\u001B[39;49m\u001B[38;5;124;43m'\u001B[39;49m\u001B[38;5;124;43m, \u001B[39;49m\u001B[38;5;124;43m'\u001B[39;49m\u001B[38;5;124;43mStream\u001B[39;49m\u001B[38;5;124;43m'\u001B[39;49m\u001B[38;5;124;43m],\u001B[39;49m\n\u001B[1;32m      5\u001B[0m \u001B[38;5;124;43m  \u001B[39;49m\u001B[38;5;124;43m{\u001B[39;49m\u001B[38;5;124;43mCHATTER: \u001B[39;49m\u001B[38;5;124;43m{\u001B[39;49m\u001B[38;5;124;43morientation:\u001B[39;49m\u001B[38;5;124;43m'\u001B[39;49m\u001B[38;5;124;43mREVERSE\u001B[39;49m\u001B[38;5;124;43m'\u001B[39;49m\u001B[38;5;124;43m}})\u001B[39;49m\n\u001B[1;32m      6\u001B[0m \u001B[38;5;124;43m\"\"\"\u001B[39;49m\u001B[43m)\u001B[49m\n\u001B[1;32m      8\u001B[0m \u001B[38;5;66;03m# Run node similarity algorithm\u001B[39;00m\n\u001B[1;32m      9\u001B[0m graph\u001B[38;5;241m.\u001B[39mquery(\u001B[38;5;124m\"\"\"\u001B[39m\n\u001B[1;32m     10\u001B[0m \u001B[38;5;124mCALL gds.nodeSimilarity.mutate(\u001B[39m\u001B[38;5;124m'\u001B[39m\u001B[38;5;124mshared-audience\u001B[39m\u001B[38;5;124m'\u001B[39m\u001B[38;5;124m,\u001B[39m\n\u001B[1;32m     11\u001B[0m \u001B[38;5;124m \u001B[39m\u001B[38;5;124m{\u001B[39m\u001B[38;5;124msimilarityMetric: \u001B[39m\u001B[38;5;124m'\u001B[39m\u001B[38;5;124mJaccard\u001B[39m\u001B[38;5;124m'\u001B[39m\u001B[38;5;124m,similarityCutoff:0.05, topK:10, sudo:true,\u001B[39m\n\u001B[1;32m     12\u001B[0m \u001B[38;5;124m     mutateProperty:\u001B[39m\u001B[38;5;124m'\u001B[39m\u001B[38;5;124mscore\u001B[39m\u001B[38;5;124m'\u001B[39m\u001B[38;5;124m, mutateRelationshipType:\u001B[39m\u001B[38;5;124m'\u001B[39m\u001B[38;5;124mSHARED_AUDIENCE\u001B[39m\u001B[38;5;124m'\u001B[39m\u001B[38;5;124m})\u001B[39m\n\u001B[1;32m     13\u001B[0m \u001B[38;5;124m\"\"\"\u001B[39m)\n",
      "File \u001B[0;32m~/.pyenv/versions/anaconda3-2019.10/envs/GoogleLLM/lib/python3.10/site-packages/langchain/graphs/neo4j_graph.py:82\u001B[0m, in \u001B[0;36mNeo4jGraph.query\u001B[0;34m(self, query, params)\u001B[0m\n\u001B[1;32m     80\u001B[0m \u001B[38;5;28;01mtry\u001B[39;00m:\n\u001B[1;32m     81\u001B[0m     data \u001B[38;5;241m=\u001B[39m session\u001B[38;5;241m.\u001B[39mrun(query, params)\n\u001B[0;32m---> 82\u001B[0m     \u001B[38;5;28;01mreturn\u001B[39;00m [r\u001B[38;5;241m.\u001B[39mdata() \u001B[38;5;28;01mfor\u001B[39;00m r \u001B[38;5;129;01min\u001B[39;00m data]\n\u001B[1;32m     83\u001B[0m \u001B[38;5;28;01mexcept\u001B[39;00m CypherSyntaxError \u001B[38;5;28;01mas\u001B[39;00m e:\n\u001B[1;32m     84\u001B[0m     \u001B[38;5;28;01mraise\u001B[39;00m \u001B[38;5;167;01mValueError\u001B[39;00m(\u001B[38;5;124m\"\u001B[39m\u001B[38;5;124mGenerated Cypher Statement is not valid\u001B[39m\u001B[38;5;130;01m\\n\u001B[39;00m\u001B[38;5;124m\"\u001B[39m \u001B[38;5;124mf\u001B[39m\u001B[38;5;124m\"\u001B[39m\u001B[38;5;132;01m{\u001B[39;00me\u001B[38;5;132;01m}\u001B[39;00m\u001B[38;5;124m\"\u001B[39m)\n",
      "File \u001B[0;32m~/.pyenv/versions/anaconda3-2019.10/envs/GoogleLLM/lib/python3.10/site-packages/langchain/graphs/neo4j_graph.py:82\u001B[0m, in \u001B[0;36m<listcomp>\u001B[0;34m(.0)\u001B[0m\n\u001B[1;32m     80\u001B[0m \u001B[38;5;28;01mtry\u001B[39;00m:\n\u001B[1;32m     81\u001B[0m     data \u001B[38;5;241m=\u001B[39m session\u001B[38;5;241m.\u001B[39mrun(query, params)\n\u001B[0;32m---> 82\u001B[0m     \u001B[38;5;28;01mreturn\u001B[39;00m [r\u001B[38;5;241m.\u001B[39mdata() \u001B[38;5;28;01mfor\u001B[39;00m r \u001B[38;5;129;01min\u001B[39;00m data]\n\u001B[1;32m     83\u001B[0m \u001B[38;5;28;01mexcept\u001B[39;00m CypherSyntaxError \u001B[38;5;28;01mas\u001B[39;00m e:\n\u001B[1;32m     84\u001B[0m     \u001B[38;5;28;01mraise\u001B[39;00m \u001B[38;5;167;01mValueError\u001B[39;00m(\u001B[38;5;124m\"\u001B[39m\u001B[38;5;124mGenerated Cypher Statement is not valid\u001B[39m\u001B[38;5;130;01m\\n\u001B[39;00m\u001B[38;5;124m\"\u001B[39m \u001B[38;5;124mf\u001B[39m\u001B[38;5;124m\"\u001B[39m\u001B[38;5;132;01m{\u001B[39;00me\u001B[38;5;132;01m}\u001B[39;00m\u001B[38;5;124m\"\u001B[39m)\n",
      "File \u001B[0;32m~/.pyenv/versions/anaconda3-2019.10/envs/GoogleLLM/lib/python3.10/site-packages/neo4j/_sync/work/result.py:251\u001B[0m, in \u001B[0;36mResult.__iter__\u001B[0;34m(self)\u001B[0m\n\u001B[1;32m    249\u001B[0m     \u001B[38;5;28;01myield\u001B[39;00m \u001B[38;5;28mself\u001B[39m\u001B[38;5;241m.\u001B[39m_record_buffer\u001B[38;5;241m.\u001B[39mpopleft()\n\u001B[1;32m    250\u001B[0m \u001B[38;5;28;01melif\u001B[39;00m \u001B[38;5;28mself\u001B[39m\u001B[38;5;241m.\u001B[39m_streaming:\n\u001B[0;32m--> 251\u001B[0m     \u001B[38;5;28;43mself\u001B[39;49m\u001B[38;5;241;43m.\u001B[39;49m\u001B[43m_connection\u001B[49m\u001B[38;5;241;43m.\u001B[39;49m\u001B[43mfetch_message\u001B[49m\u001B[43m(\u001B[49m\u001B[43m)\u001B[49m\n\u001B[1;32m    252\u001B[0m \u001B[38;5;28;01melif\u001B[39;00m \u001B[38;5;28mself\u001B[39m\u001B[38;5;241m.\u001B[39m_discarding:\n\u001B[1;32m    253\u001B[0m     \u001B[38;5;28mself\u001B[39m\u001B[38;5;241m.\u001B[39m_discard()\n",
      "File \u001B[0;32m~/.pyenv/versions/anaconda3-2019.10/envs/GoogleLLM/lib/python3.10/site-packages/neo4j/_sync/io/_common.py:180\u001B[0m, in \u001B[0;36mConnectionErrorHandler.__getattr__.<locals>.outer.<locals>.inner\u001B[0;34m(*args, **kwargs)\u001B[0m\n\u001B[1;32m    178\u001B[0m \u001B[38;5;28;01mdef\u001B[39;00m \u001B[38;5;21minner\u001B[39m(\u001B[38;5;241m*\u001B[39margs, \u001B[38;5;241m*\u001B[39m\u001B[38;5;241m*\u001B[39mkwargs):\n\u001B[1;32m    179\u001B[0m     \u001B[38;5;28;01mtry\u001B[39;00m:\n\u001B[0;32m--> 180\u001B[0m         \u001B[43mfunc\u001B[49m\u001B[43m(\u001B[49m\u001B[38;5;241;43m*\u001B[39;49m\u001B[43margs\u001B[49m\u001B[43m,\u001B[49m\u001B[43m \u001B[49m\u001B[38;5;241;43m*\u001B[39;49m\u001B[38;5;241;43m*\u001B[39;49m\u001B[43mkwargs\u001B[49m\u001B[43m)\u001B[49m\n\u001B[1;32m    181\u001B[0m     \u001B[38;5;28;01mexcept\u001B[39;00m (Neo4jError, ServiceUnavailable, SessionExpired) \u001B[38;5;28;01mas\u001B[39;00m exc:\n\u001B[1;32m    182\u001B[0m         \u001B[38;5;28;01massert\u001B[39;00m \u001B[38;5;129;01mnot\u001B[39;00m asyncio\u001B[38;5;241m.\u001B[39miscoroutinefunction(\u001B[38;5;28mself\u001B[39m\u001B[38;5;241m.\u001B[39m__on_error)\n",
      "File \u001B[0;32m~/.pyenv/versions/anaconda3-2019.10/envs/GoogleLLM/lib/python3.10/site-packages/neo4j/_sync/io/_bolt.py:808\u001B[0m, in \u001B[0;36mBolt.fetch_message\u001B[0;34m(self)\u001B[0m\n\u001B[1;32m    804\u001B[0m \u001B[38;5;66;03m# Receive exactly one message\u001B[39;00m\n\u001B[1;32m    805\u001B[0m tag, fields \u001B[38;5;241m=\u001B[39m \u001B[38;5;28mself\u001B[39m\u001B[38;5;241m.\u001B[39minbox\u001B[38;5;241m.\u001B[39mpop(\n\u001B[1;32m    806\u001B[0m     hydration_hooks\u001B[38;5;241m=\u001B[39m\u001B[38;5;28mself\u001B[39m\u001B[38;5;241m.\u001B[39mresponses[\u001B[38;5;241m0\u001B[39m]\u001B[38;5;241m.\u001B[39mhydration_hooks\n\u001B[1;32m    807\u001B[0m )\n\u001B[0;32m--> 808\u001B[0m res \u001B[38;5;241m=\u001B[39m \u001B[38;5;28;43mself\u001B[39;49m\u001B[38;5;241;43m.\u001B[39;49m\u001B[43m_process_message\u001B[49m\u001B[43m(\u001B[49m\u001B[43mtag\u001B[49m\u001B[43m,\u001B[49m\u001B[43m \u001B[49m\u001B[43mfields\u001B[49m\u001B[43m)\u001B[49m\n\u001B[1;32m    809\u001B[0m \u001B[38;5;28mself\u001B[39m\u001B[38;5;241m.\u001B[39midle_since \u001B[38;5;241m=\u001B[39m perf_counter()\n\u001B[1;32m    810\u001B[0m \u001B[38;5;28;01mreturn\u001B[39;00m res\n",
      "File \u001B[0;32m~/.pyenv/versions/anaconda3-2019.10/envs/GoogleLLM/lib/python3.10/site-packages/neo4j/_sync/io/_bolt5.py:361\u001B[0m, in \u001B[0;36mBolt5x0._process_message\u001B[0;34m(self, tag, fields)\u001B[0m\n\u001B[1;32m    359\u001B[0m \u001B[38;5;28mself\u001B[39m\u001B[38;5;241m.\u001B[39m_server_state_manager\u001B[38;5;241m.\u001B[39mstate \u001B[38;5;241m=\u001B[39m \u001B[38;5;28mself\u001B[39m\u001B[38;5;241m.\u001B[39mserver_states\u001B[38;5;241m.\u001B[39mFAILED\n\u001B[1;32m    360\u001B[0m \u001B[38;5;28;01mtry\u001B[39;00m:\n\u001B[0;32m--> 361\u001B[0m     \u001B[43mresponse\u001B[49m\u001B[38;5;241;43m.\u001B[39;49m\u001B[43mon_failure\u001B[49m\u001B[43m(\u001B[49m\u001B[43msummary_metadata\u001B[49m\u001B[43m \u001B[49m\u001B[38;5;129;43;01mor\u001B[39;49;00m\u001B[43m \u001B[49m\u001B[43m{\u001B[49m\u001B[43m}\u001B[49m\u001B[43m)\u001B[49m\n\u001B[1;32m    362\u001B[0m \u001B[38;5;28;01mexcept\u001B[39;00m (ServiceUnavailable, DatabaseUnavailable):\n\u001B[1;32m    363\u001B[0m     \u001B[38;5;28;01mif\u001B[39;00m \u001B[38;5;28mself\u001B[39m\u001B[38;5;241m.\u001B[39mpool:\n",
      "File \u001B[0;32m~/.pyenv/versions/anaconda3-2019.10/envs/GoogleLLM/lib/python3.10/site-packages/neo4j/_sync/io/_common.py:247\u001B[0m, in \u001B[0;36mResponse.on_failure\u001B[0;34m(self, metadata)\u001B[0m\n\u001B[1;32m    245\u001B[0m handler \u001B[38;5;241m=\u001B[39m \u001B[38;5;28mself\u001B[39m\u001B[38;5;241m.\u001B[39mhandlers\u001B[38;5;241m.\u001B[39mget(\u001B[38;5;124m\"\u001B[39m\u001B[38;5;124mon_summary\u001B[39m\u001B[38;5;124m\"\u001B[39m)\n\u001B[1;32m    246\u001B[0m Util\u001B[38;5;241m.\u001B[39mcallback(handler)\n\u001B[0;32m--> 247\u001B[0m \u001B[38;5;28;01mraise\u001B[39;00m Neo4jError\u001B[38;5;241m.\u001B[39mhydrate(\u001B[38;5;241m*\u001B[39m\u001B[38;5;241m*\u001B[39mmetadata)\n",
      "\u001B[0;31mClientError\u001B[0m: {code: Neo.ClientError.Procedure.ProcedureCallFailed} {message: Failed to invoke procedure `gds.graph.project`: Caused by: java.lang.IllegalArgumentException: A graph with name 'shared-audience' already exists.}"
     ]
    }
   ],
   "source": [
    "# Project in-memory graph\n",
    "graph.query(\"\"\"\n",
    "CALL gds.graph.project('shared-audience',\n",
    "  ['User', 'Stream'],\n",
    "  {CHATTER: {orientation:'REVERSE'}})\n",
    "\"\"\")\n",
    "\n",
    "# Run node similarity algorithm\n",
    "graph.query(\"\"\"\n",
    "CALL gds.nodeSimilarity.mutate('shared-audience',\n",
    " {similarityMetric: 'Jaccard',similarityCutoff:0.05, topK:10, sudo:true,\n",
    "     mutateProperty:'score', mutateRelationshipType:'SHARED_AUDIENCE'})\n",
    "\"\"\")"
   ]
  },
  {
   "cell_type": "code",
   "execution_count": 9,
   "metadata": {
    "colab": {
     "base_uri": "https://localhost:8080/"
    },
    "id": "hmoSjlwsquPi",
    "outputId": "a35e7e2b-9016-42f3-8e1d-ce97d0282e86"
   },
   "outputs": [
    {
     "data": {
      "text/plain": "[{'streamer': 'jungtaejune', 'score': 0.13697276805472167},\n {'streamer': 'tranth', 'score': 0.13697276805472167},\n {'streamer': 'hanryang1125', 'score': 0.10511818935406857}]"
     },
     "execution_count": 9,
     "metadata": {},
     "output_type": "execute_result"
    }
   ],
   "source": [
    "graph.query(\"\"\"\n",
    "MATCH (s:Stream)\n",
    "WHERE s.name = \"kimdoe\"\n",
    "WITH collect(s) AS sourceNodes\n",
    "CALL gds.pageRank.stream(\"shared-audience\", \n",
    "  {sourceNodes:sourceNodes, relationshipTypes:['SHARED_AUDIENCE'], \n",
    "    nodeLabels:['Stream']})\n",
    "YIELD nodeId, score\n",
    "WITH gds.util.asNode(nodeId) AS node, score\n",
    "WHERE NOT node in sourceNodes\n",
    "RETURN node.name AS streamer, score\n",
    "ORDER BY score DESC LIMIT 3\n",
    "\"\"\")"
   ]
  },
  {
   "cell_type": "code",
   "execution_count": 10,
   "metadata": {
    "id": "ZzgTn65jJXvF"
   },
   "outputs": [],
   "source": [
    "# https://github.com/hwchase17/langchain/blob/master/langchain/chains/graph_qa/prompts.py\n",
    "\n",
    "CYPHER_RECOMMENDATION_TEMPLATE = \"\"\"Task:Generate Cypher statement to query a graph database.\n",
    "Instructions:\n",
    "Use only the provided relationship types and properties in the schema.\n",
    "Do not use any other relationship types or properties that are not provided.\n",
    "Schema:\n",
    "{schema}\n",
    "Cypher examples:\n",
    "# How many streamers are from Norway?\n",
    "MATCH (s:Stream)-[:HAS_LANGUAGE]->(:Language {{name: 'no'}})\n",
    "RETURN count(s) AS streamers\n",
    "# Which streamers do you recommend if I like kimdoe?\n",
    "MATCH (s:Stream)\n",
    "WHERE s.name = \"kimdoe\"\n",
    "WITH collect(s) AS sourceNodes\n",
    "CALL gds.pageRank.stream(\"shared-audience\", \n",
    "  {{sourceNodes:sourceNodes, relationshipTypes:['SHARED_AUDIENCE'], \n",
    "    nodeLabels:['Stream']}})\n",
    "YIELD nodeId, score\n",
    "WITH gds.util.asNode(nodeId) AS node, score\n",
    "WHERE NOT node in sourceNodes\n",
    "RETURN node.name AS streamer, score\n",
    "ORDER BY score DESC LIMIT 3\n",
    "\n",
    "Note: Do not include any explanations or apologies in your responses.\n",
    "Do not respond to any questions that might ask anything else than for you to construct a Cypher statement.\n",
    "Do not include any text except the generated Cypher statement.\n",
    "\n",
    "The question is:\n",
    "{question}\"\"\"\n",
    "CYPHER_RECOMMENDATION_PROMPT = PromptTemplate(\n",
    "    input_variables=[\"schema\", \"question\"], template=CYPHER_RECOMMENDATION_TEMPLATE\n",
    ")"
   ]
  },
  {
   "cell_type": "code",
   "execution_count": 11,
   "metadata": {
    "colab": {
     "base_uri": "https://localhost:8080/",
     "height": 405
    },
    "id": "r14bQBlaL03n",
    "outputId": "25bef31a-21b2-44e6-b09a-0e60ea97bec6"
   },
   "outputs": [
    {
     "name": "stdout",
     "output_type": "stream",
     "text": [
      "\n",
      "\n",
      "\u001B[1m> Entering new  chain...\u001B[0m\n",
      "Generated Cypher:\n",
      "\u001B[32;1m\u001B[1;3mMATCH (s:Stream)\n",
      "WHERE s.name = \"pokimane\"\n",
      "WITH collect(s) AS sourceNodes\n",
      "CALL gds.pageRank.stream(\"shared-audience\", \n",
      "  {sourceNodes:sourceNodes, relationshipTypes:['SHARED_AUDIENCE'], \n",
      "    nodeLabels:['Stream']})\n",
      "YIELD nodeId, score\n",
      "WITH gds.util.asNode(nodeId) AS node, score\n",
      "WHERE NOT node in sourceNodes\n",
      "RETURN node.name AS streamer, score\n",
      "ORDER BY score DESC LIMIT 3\u001B[0m\n",
      "Full Context:\n",
      "\u001B[32;1m\u001B[1;3m[{'streamer': 'xchocobars', 'score': 0.2343657053097286}, {'streamer': 'ariasaki', 'score': 0.06485239618458194}, {'streamer': 'natsumiii', 'score': 0.05969369486512491}]\u001B[0m\n",
      "\n",
      "\u001B[1m> Finished chain.\u001B[0m\n"
     ]
    },
    {
     "data": {
      "text/plain": "'I recommend xchocobars, ariasaki, and natsumiii.'"
     },
     "execution_count": 11,
     "metadata": {},
     "output_type": "execute_result"
    }
   ],
   "source": [
    "chain_recommendation_example = GraphCypherQAChain.from_llm(\n",
    "    llm, graph=graph, verbose=True,\n",
    "    cypher_prompt=CYPHER_RECOMMENDATION_PROMPT, \n",
    ")\n",
    "\n",
    "chain_recommendation_example.run(\"\"\"\n",
    "Which streamers do you recommend if I like pokimane?\n",
    "\"\"\")"
   ]
  },
  {
   "cell_type": "code",
   "execution_count": 12,
   "metadata": {
    "colab": {
     "base_uri": "https://localhost:8080/",
     "height": 278
    },
    "id": "ZvWNlpFIMJwj",
    "outputId": "15f6edae-2938-4ae2-aa9c-d1ad3d78ddbb"
   },
   "outputs": [
    {
     "name": "stdout",
     "output_type": "stream",
     "text": [
      "\n",
      "\n",
      "\u001B[1m> Entering new  chain...\u001B[0m\n",
      "Generated Cypher:\n",
      "\u001B[32;1m\u001B[1;3mMATCH (s:Stream)-[:PLAYS]->(g:Game {name: \"Chess\"})\n",
      "RETURN s.name AS streamer\u001B[0m\n",
      "Full Context:\n",
      "\u001B[32;1m\u001B[1;3m[{'streamer': 'thisisnotgeorgenotfound'}, {'streamer': 'gmharikrishna'}, {'streamer': 'michelleputtini'}, {'streamer': 'alirezafirouzja'}, {'streamer': 'chesscoachandras'}, {'streamer': 'attilaturzo'}, {'streamer': 'gmneiksans'}, {'streamer': 'joebruin'}, {'streamer': 'd2thafool'}, {'streamer': 'imsatranc'}]\u001B[0m\n",
      "\n",
      "\u001B[1m> Finished chain.\u001B[0m\n"
     ]
    },
    {
     "data": {
      "text/plain": "'I recommend watching thisisnotgeorgenotfound, gmharikrishna, michelleputtini, alirezafirouzja, chesscoachandras, attilaturzo, gmneiksans, joebruin, d2thafool, and imsatranc.'"
     },
     "execution_count": 12,
     "metadata": {},
     "output_type": "execute_result"
    }
   ],
   "source": [
    "chain_recommendation_example.run(\"\"\"\n",
    "Which streamers do you recommend to watch if I like Chess games?\n",
    "\"\"\")"
   ]
  },
  {
   "cell_type": "code",
   "execution_count": null,
   "metadata": {
    "id": "zJvtuXlvuaon",
    "pycharm": {
     "is_executing": true
    }
   },
   "outputs": [],
   "source": []
  },
  {
   "cell_type": "code",
   "execution_count": 12,
   "outputs": [],
   "source": [],
   "metadata": {
    "collapsed": false
   }
  }
 ],
 "metadata": {
  "colab": {
   "authorship_tag": "ABX9TyM4xOyaU8TfeD/8PDfwIi4J",
   "include_colab_link": true,
   "provenance": []
  },
  "kernelspec": {
   "display_name": "Python 3",
   "name": "python3"
  },
  "language_info": {
   "codemirror_mode": {
    "name": "ipython",
    "version": 3
   },
   "file_extension": ".py",
   "mimetype": "text/x-python",
   "name": "python",
   "nbconvert_exporter": "python",
   "pygments_lexer": "ipython3",
   "version": "3.9.0"
  }
 },
 "nbformat": 4,
 "nbformat_minor": 0
}
